{
  "nbformat": 4,
  "nbformat_minor": 0,
  "metadata": {
    "colab": {
      "name": "Untitled1.ipynb",
      "provenance": [],
      "collapsed_sections": [],
      "mount_file_id": "1NLb8CALtGw-_OAwbV6NwiNwGYgjL0iwZ",
      "authorship_tag": "ABX9TyNd1qhxd3Rli7G7IsGBr9IH",
      "include_colab_link": true
    },
    "kernelspec": {
      "name": "python3",
      "display_name": "Python 3"
    },
    "language_info": {
      "name": "python"
    }
  },
  "cells": [
    {
      "cell_type": "markdown",
      "metadata": {
        "id": "view-in-github",
        "colab_type": "text"
      },
      "source": [
        "<a href=\"https://colab.research.google.com/github/kittykitty228/-/blob/main/%D0%BA%D0%BE%D1%80%D0%BD%D0%B0%D0%B5%D0%B2%202%20%D0%BA%D0%BE%D0%B4.ipynb\" target=\"_parent\"><img src=\"https://colab.research.google.com/assets/colab-badge.svg\" alt=\"Open In Colab\"/></a>"
      ]
    },
    {
      "cell_type": "markdown",
      "source": [
        "#Установка библиотек OpenCV  imageio fastbook "
      ],
      "metadata": {
        "id": "w_eiLzDMCkl5"
      }
    },
    {
      "cell_type": "code",
      "source": [
        "!pip install -Uqq fastbook\n",
        "import fastbook\n",
        "!pip install imageio\n",
        "fastbook.setup_book()"
      ],
      "metadata": {
        "colab": {
          "base_uri": "https://localhost:8080/"
        },
        "id": "n1WLoSeuFXCt",
        "outputId": "64552e95-271b-4011-c25c-e15dd5f25b3e"
      },
      "execution_count": 23,
      "outputs": [
        {
          "output_type": "stream",
          "name": "stdout",
          "text": [
            "Requirement already satisfied: imageio in /usr/local/lib/python3.7/dist-packages (2.4.1)\n",
            "Requirement already satisfied: numpy in /usr/local/lib/python3.7/dist-packages (from imageio) (1.21.5)\n",
            "Requirement already satisfied: pillow in /usr/local/lib/python3.7/dist-packages (from imageio) (7.1.2)\n"
          ]
        }
      ]
    },
    {
      "cell_type": "code",
      "source": [
        ""
      ],
      "metadata": {
        "id": "aiLjNA67FfzM"
      },
      "execution_count": 23,
      "outputs": []
    },
    {
      "cell_type": "code",
      "execution_count": 24,
      "metadata": {
        "id": "DOIvTKkwBSJA"
      },
      "outputs": [],
      "source": [
        "from fastai.vision.all import*\n",
        "import cv2\n",
        "import imageio"
      ]
    },
    {
      "cell_type": "markdown",
      "source": [
        "#Путь к изображениям"
      ],
      "metadata": {
        "id": "vwVy45jGES_P"
      }
    },
    {
      "cell_type": "code",
      "source": [
        "path = Path('/content/gdrive/MyDrive/питон корнаев 2/lmg_f_16.02.2022_2p5_gc')\n",
        "path"
      ],
      "metadata": {
        "colab": {
          "base_uri": "https://localhost:8080/"
        },
        "id": "pLW1qG34C5j3",
        "outputId": "3502873a-5cf0-4a6c-f177-45b02cd9a8e1"
      },
      "execution_count": 25,
      "outputs": [
        {
          "output_type": "execute_result",
          "data": {
            "text/plain": [
              "Path('/content/gdrive/MyDrive/питон корнаев 2/lmg_f_16.02.2022_2p5_gc')"
            ]
          },
          "metadata": {},
          "execution_count": 25
        }
      ]
    },
    {
      "cell_type": "markdown",
      "source": [
        "##Чтение содержимого папки"
      ],
      "metadata": {
        "id": "U2BMdeAoHfI3"
      }
    },
    {
      "cell_type": "code",
      "source": [
        "fnames = get_image_files(path)\n",
        "fnames"
      ],
      "metadata": {
        "colab": {
          "base_uri": "https://localhost:8080/"
        },
        "id": "oA3ws9Y8HiFg",
        "outputId": "8cbe9130-2281-4354-a06c-b87c2bce75fa"
      },
      "execution_count": 26,
      "outputs": [
        {
          "output_type": "execute_result",
          "data": {
            "text/plain": [
              "(#100) [Path('/content/gdrive/MyDrive/питон корнаев 2/lmg_f_16.02.2022_2p5_gc/img1_000000000000014.png'),Path('/content/gdrive/MyDrive/питон корнаев 2/lmg_f_16.02.2022_2p5_gc/img1_000000000000003.png'),Path('/content/gdrive/MyDrive/питон корнаев 2/lmg_f_16.02.2022_2p5_gc/img1_000000000000037.png'),Path('/content/gdrive/MyDrive/питон корнаев 2/lmg_f_16.02.2022_2p5_gc/img1_000000000000042.png'),Path('/content/gdrive/MyDrive/питон корнаев 2/lmg_f_16.02.2022_2p5_gc/img1_000000000000038.png'),Path('/content/gdrive/MyDrive/питон корнаев 2/lmg_f_16.02.2022_2p5_gc/img1_000000000000007.png'),Path('/content/gdrive/MyDrive/питон корнаев 2/lmg_f_16.02.2022_2p5_gc/img1_000000000000012.png'),Path('/content/gdrive/MyDrive/питон корнаев 2/lmg_f_16.02.2022_2p5_gc/img1_000000000000030.png'),Path('/content/gdrive/MyDrive/питон корнаев 2/lmg_f_16.02.2022_2p5_gc/img1_000000000000005.png'),Path('/content/gdrive/MyDrive/питон корнаев 2/lmg_f_16.02.2022_2p5_gc/img1_000000000000039.png')...]"
            ]
          },
          "metadata": {},
          "execution_count": 26
        }
      ]
    },
    {
      "cell_type": "markdown",
      "source": [
        "#Сортировка"
      ],
      "metadata": {
        "id": "2H13HSSmHj_A"
      }
    },
    {
      "cell_type": "code",
      "source": [
        "sorted(fnames)"
      ],
      "metadata": {
        "colab": {
          "base_uri": "https://localhost:8080/"
        },
        "id": "MXPnu6fvHluA",
        "outputId": "7cd943e8-810a-4d58-ae10-99275ba69d5d"
      },
      "execution_count": 27,
      "outputs": [
        {
          "output_type": "execute_result",
          "data": {
            "text/plain": [
              "[Path('/content/gdrive/MyDrive/питон корнаев 2/lmg_f_16.02.2022_2p5_gc/img1_000000000000001.png'),\n",
              " Path('/content/gdrive/MyDrive/питон корнаев 2/lmg_f_16.02.2022_2p5_gc/img1_000000000000002.png'),\n",
              " Path('/content/gdrive/MyDrive/питон корнаев 2/lmg_f_16.02.2022_2p5_gc/img1_000000000000003.png'),\n",
              " Path('/content/gdrive/MyDrive/питон корнаев 2/lmg_f_16.02.2022_2p5_gc/img1_000000000000004.png'),\n",
              " Path('/content/gdrive/MyDrive/питон корнаев 2/lmg_f_16.02.2022_2p5_gc/img1_000000000000005.png'),\n",
              " Path('/content/gdrive/MyDrive/питон корнаев 2/lmg_f_16.02.2022_2p5_gc/img1_000000000000006.png'),\n",
              " Path('/content/gdrive/MyDrive/питон корнаев 2/lmg_f_16.02.2022_2p5_gc/img1_000000000000007.png'),\n",
              " Path('/content/gdrive/MyDrive/питон корнаев 2/lmg_f_16.02.2022_2p5_gc/img1_000000000000008.png'),\n",
              " Path('/content/gdrive/MyDrive/питон корнаев 2/lmg_f_16.02.2022_2p5_gc/img1_000000000000009.png'),\n",
              " Path('/content/gdrive/MyDrive/питон корнаев 2/lmg_f_16.02.2022_2p5_gc/img1_000000000000010.png'),\n",
              " Path('/content/gdrive/MyDrive/питон корнаев 2/lmg_f_16.02.2022_2p5_gc/img1_000000000000011.png'),\n",
              " Path('/content/gdrive/MyDrive/питон корнаев 2/lmg_f_16.02.2022_2p5_gc/img1_000000000000012.png'),\n",
              " Path('/content/gdrive/MyDrive/питон корнаев 2/lmg_f_16.02.2022_2p5_gc/img1_000000000000013.png'),\n",
              " Path('/content/gdrive/MyDrive/питон корнаев 2/lmg_f_16.02.2022_2p5_gc/img1_000000000000014.png'),\n",
              " Path('/content/gdrive/MyDrive/питон корнаев 2/lmg_f_16.02.2022_2p5_gc/img1_000000000000015.png'),\n",
              " Path('/content/gdrive/MyDrive/питон корнаев 2/lmg_f_16.02.2022_2p5_gc/img1_000000000000016.png'),\n",
              " Path('/content/gdrive/MyDrive/питон корнаев 2/lmg_f_16.02.2022_2p5_gc/img1_000000000000017.png'),\n",
              " Path('/content/gdrive/MyDrive/питон корнаев 2/lmg_f_16.02.2022_2p5_gc/img1_000000000000018.png'),\n",
              " Path('/content/gdrive/MyDrive/питон корнаев 2/lmg_f_16.02.2022_2p5_gc/img1_000000000000019.png'),\n",
              " Path('/content/gdrive/MyDrive/питон корнаев 2/lmg_f_16.02.2022_2p5_gc/img1_000000000000020.png'),\n",
              " Path('/content/gdrive/MyDrive/питон корнаев 2/lmg_f_16.02.2022_2p5_gc/img1_000000000000021.png'),\n",
              " Path('/content/gdrive/MyDrive/питон корнаев 2/lmg_f_16.02.2022_2p5_gc/img1_000000000000022.png'),\n",
              " Path('/content/gdrive/MyDrive/питон корнаев 2/lmg_f_16.02.2022_2p5_gc/img1_000000000000023.png'),\n",
              " Path('/content/gdrive/MyDrive/питон корнаев 2/lmg_f_16.02.2022_2p5_gc/img1_000000000000024.png'),\n",
              " Path('/content/gdrive/MyDrive/питон корнаев 2/lmg_f_16.02.2022_2p5_gc/img1_000000000000025.png'),\n",
              " Path('/content/gdrive/MyDrive/питон корнаев 2/lmg_f_16.02.2022_2p5_gc/img1_000000000000026.png'),\n",
              " Path('/content/gdrive/MyDrive/питон корнаев 2/lmg_f_16.02.2022_2p5_gc/img1_000000000000027.png'),\n",
              " Path('/content/gdrive/MyDrive/питон корнаев 2/lmg_f_16.02.2022_2p5_gc/img1_000000000000028.png'),\n",
              " Path('/content/gdrive/MyDrive/питон корнаев 2/lmg_f_16.02.2022_2p5_gc/img1_000000000000029.png'),\n",
              " Path('/content/gdrive/MyDrive/питон корнаев 2/lmg_f_16.02.2022_2p5_gc/img1_000000000000030.png'),\n",
              " Path('/content/gdrive/MyDrive/питон корнаев 2/lmg_f_16.02.2022_2p5_gc/img1_000000000000031.png'),\n",
              " Path('/content/gdrive/MyDrive/питон корнаев 2/lmg_f_16.02.2022_2p5_gc/img1_000000000000032.png'),\n",
              " Path('/content/gdrive/MyDrive/питон корнаев 2/lmg_f_16.02.2022_2p5_gc/img1_000000000000033.png'),\n",
              " Path('/content/gdrive/MyDrive/питон корнаев 2/lmg_f_16.02.2022_2p5_gc/img1_000000000000034.png'),\n",
              " Path('/content/gdrive/MyDrive/питон корнаев 2/lmg_f_16.02.2022_2p5_gc/img1_000000000000035.png'),\n",
              " Path('/content/gdrive/MyDrive/питон корнаев 2/lmg_f_16.02.2022_2p5_gc/img1_000000000000036.png'),\n",
              " Path('/content/gdrive/MyDrive/питон корнаев 2/lmg_f_16.02.2022_2p5_gc/img1_000000000000037.png'),\n",
              " Path('/content/gdrive/MyDrive/питон корнаев 2/lmg_f_16.02.2022_2p5_gc/img1_000000000000038.png'),\n",
              " Path('/content/gdrive/MyDrive/питон корнаев 2/lmg_f_16.02.2022_2p5_gc/img1_000000000000039.png'),\n",
              " Path('/content/gdrive/MyDrive/питон корнаев 2/lmg_f_16.02.2022_2p5_gc/img1_000000000000040.png'),\n",
              " Path('/content/gdrive/MyDrive/питон корнаев 2/lmg_f_16.02.2022_2p5_gc/img1_000000000000041.png'),\n",
              " Path('/content/gdrive/MyDrive/питон корнаев 2/lmg_f_16.02.2022_2p5_gc/img1_000000000000042.png'),\n",
              " Path('/content/gdrive/MyDrive/питон корнаев 2/lmg_f_16.02.2022_2p5_gc/img1_000000000000043.png'),\n",
              " Path('/content/gdrive/MyDrive/питон корнаев 2/lmg_f_16.02.2022_2p5_gc/img1_000000000000044.png'),\n",
              " Path('/content/gdrive/MyDrive/питон корнаев 2/lmg_f_16.02.2022_2p5_gc/img1_000000000000045.png'),\n",
              " Path('/content/gdrive/MyDrive/питон корнаев 2/lmg_f_16.02.2022_2p5_gc/img1_000000000000046.png'),\n",
              " Path('/content/gdrive/MyDrive/питон корнаев 2/lmg_f_16.02.2022_2p5_gc/img1_000000000000047.png'),\n",
              " Path('/content/gdrive/MyDrive/питон корнаев 2/lmg_f_16.02.2022_2p5_gc/img1_000000000000048.png'),\n",
              " Path('/content/gdrive/MyDrive/питон корнаев 2/lmg_f_16.02.2022_2p5_gc/img1_000000000000049.png'),\n",
              " Path('/content/gdrive/MyDrive/питон корнаев 2/lmg_f_16.02.2022_2p5_gc/img1_000000000000050.png'),\n",
              " Path('/content/gdrive/MyDrive/питон корнаев 2/lmg_f_16.02.2022_2p5_gc/img1_000000000000051.png'),\n",
              " Path('/content/gdrive/MyDrive/питон корнаев 2/lmg_f_16.02.2022_2p5_gc/img1_000000000000052.png'),\n",
              " Path('/content/gdrive/MyDrive/питон корнаев 2/lmg_f_16.02.2022_2p5_gc/img1_000000000000053.png'),\n",
              " Path('/content/gdrive/MyDrive/питон корнаев 2/lmg_f_16.02.2022_2p5_gc/img1_000000000000054.png'),\n",
              " Path('/content/gdrive/MyDrive/питон корнаев 2/lmg_f_16.02.2022_2p5_gc/img1_000000000000055.png'),\n",
              " Path('/content/gdrive/MyDrive/питон корнаев 2/lmg_f_16.02.2022_2p5_gc/img1_000000000000056.png'),\n",
              " Path('/content/gdrive/MyDrive/питон корнаев 2/lmg_f_16.02.2022_2p5_gc/img1_000000000000057.png'),\n",
              " Path('/content/gdrive/MyDrive/питон корнаев 2/lmg_f_16.02.2022_2p5_gc/img1_000000000000058.png'),\n",
              " Path('/content/gdrive/MyDrive/питон корнаев 2/lmg_f_16.02.2022_2p5_gc/img1_000000000000059.png'),\n",
              " Path('/content/gdrive/MyDrive/питон корнаев 2/lmg_f_16.02.2022_2p5_gc/img1_000000000000060.png'),\n",
              " Path('/content/gdrive/MyDrive/питон корнаев 2/lmg_f_16.02.2022_2p5_gc/img1_000000000000061.png'),\n",
              " Path('/content/gdrive/MyDrive/питон корнаев 2/lmg_f_16.02.2022_2p5_gc/img1_000000000000062.png'),\n",
              " Path('/content/gdrive/MyDrive/питон корнаев 2/lmg_f_16.02.2022_2p5_gc/img1_000000000000063.png'),\n",
              " Path('/content/gdrive/MyDrive/питон корнаев 2/lmg_f_16.02.2022_2p5_gc/img1_000000000000064.png'),\n",
              " Path('/content/gdrive/MyDrive/питон корнаев 2/lmg_f_16.02.2022_2p5_gc/img1_000000000000065.png'),\n",
              " Path('/content/gdrive/MyDrive/питон корнаев 2/lmg_f_16.02.2022_2p5_gc/img1_000000000000066.png'),\n",
              " Path('/content/gdrive/MyDrive/питон корнаев 2/lmg_f_16.02.2022_2p5_gc/img1_000000000000067.png'),\n",
              " Path('/content/gdrive/MyDrive/питон корнаев 2/lmg_f_16.02.2022_2p5_gc/img1_000000000000068.png'),\n",
              " Path('/content/gdrive/MyDrive/питон корнаев 2/lmg_f_16.02.2022_2p5_gc/img1_000000000000069.png'),\n",
              " Path('/content/gdrive/MyDrive/питон корнаев 2/lmg_f_16.02.2022_2p5_gc/img1_000000000000070.png'),\n",
              " Path('/content/gdrive/MyDrive/питон корнаев 2/lmg_f_16.02.2022_2p5_gc/img1_000000000000071.png'),\n",
              " Path('/content/gdrive/MyDrive/питон корнаев 2/lmg_f_16.02.2022_2p5_gc/img1_000000000000072.png'),\n",
              " Path('/content/gdrive/MyDrive/питон корнаев 2/lmg_f_16.02.2022_2p5_gc/img1_000000000000073.png'),\n",
              " Path('/content/gdrive/MyDrive/питон корнаев 2/lmg_f_16.02.2022_2p5_gc/img1_000000000000074.png'),\n",
              " Path('/content/gdrive/MyDrive/питон корнаев 2/lmg_f_16.02.2022_2p5_gc/img1_000000000000075.png'),\n",
              " Path('/content/gdrive/MyDrive/питон корнаев 2/lmg_f_16.02.2022_2p5_gc/img1_000000000000076.png'),\n",
              " Path('/content/gdrive/MyDrive/питон корнаев 2/lmg_f_16.02.2022_2p5_gc/img1_000000000000077.png'),\n",
              " Path('/content/gdrive/MyDrive/питон корнаев 2/lmg_f_16.02.2022_2p5_gc/img1_000000000000078.png'),\n",
              " Path('/content/gdrive/MyDrive/питон корнаев 2/lmg_f_16.02.2022_2p5_gc/img1_000000000000079.png'),\n",
              " Path('/content/gdrive/MyDrive/питон корнаев 2/lmg_f_16.02.2022_2p5_gc/img1_000000000000080.png'),\n",
              " Path('/content/gdrive/MyDrive/питон корнаев 2/lmg_f_16.02.2022_2p5_gc/img1_000000000000081.png'),\n",
              " Path('/content/gdrive/MyDrive/питон корнаев 2/lmg_f_16.02.2022_2p5_gc/img1_000000000000082.png'),\n",
              " Path('/content/gdrive/MyDrive/питон корнаев 2/lmg_f_16.02.2022_2p5_gc/img1_000000000000083.png'),\n",
              " Path('/content/gdrive/MyDrive/питон корнаев 2/lmg_f_16.02.2022_2p5_gc/img1_000000000000084.png'),\n",
              " Path('/content/gdrive/MyDrive/питон корнаев 2/lmg_f_16.02.2022_2p5_gc/img1_000000000000085.png'),\n",
              " Path('/content/gdrive/MyDrive/питон корнаев 2/lmg_f_16.02.2022_2p5_gc/img1_000000000000086.png'),\n",
              " Path('/content/gdrive/MyDrive/питон корнаев 2/lmg_f_16.02.2022_2p5_gc/img1_000000000000087.png'),\n",
              " Path('/content/gdrive/MyDrive/питон корнаев 2/lmg_f_16.02.2022_2p5_gc/img1_000000000000088.png'),\n",
              " Path('/content/gdrive/MyDrive/питон корнаев 2/lmg_f_16.02.2022_2p5_gc/img1_000000000000089.png'),\n",
              " Path('/content/gdrive/MyDrive/питон корнаев 2/lmg_f_16.02.2022_2p5_gc/img1_000000000000090.png'),\n",
              " Path('/content/gdrive/MyDrive/питон корнаев 2/lmg_f_16.02.2022_2p5_gc/img1_000000000000091.png'),\n",
              " Path('/content/gdrive/MyDrive/питон корнаев 2/lmg_f_16.02.2022_2p5_gc/img1_000000000000092.png'),\n",
              " Path('/content/gdrive/MyDrive/питон корнаев 2/lmg_f_16.02.2022_2p5_gc/img1_000000000000093.png'),\n",
              " Path('/content/gdrive/MyDrive/питон корнаев 2/lmg_f_16.02.2022_2p5_gc/img1_000000000000094.png'),\n",
              " Path('/content/gdrive/MyDrive/питон корнаев 2/lmg_f_16.02.2022_2p5_gc/img1_000000000000095.png'),\n",
              " Path('/content/gdrive/MyDrive/питон корнаев 2/lmg_f_16.02.2022_2p5_gc/img1_000000000000096.png'),\n",
              " Path('/content/gdrive/MyDrive/питон корнаев 2/lmg_f_16.02.2022_2p5_gc/img1_000000000000097.png'),\n",
              " Path('/content/gdrive/MyDrive/питон корнаев 2/lmg_f_16.02.2022_2p5_gc/img1_000000000000098.png'),\n",
              " Path('/content/gdrive/MyDrive/питон корнаев 2/lmg_f_16.02.2022_2p5_gc/img1_000000000000099.png'),\n",
              " Path('/content/gdrive/MyDrive/питон корнаев 2/lmg_f_16.02.2022_2p5_gc/img1_000000000000100.png')]"
            ]
          },
          "metadata": {},
          "execution_count": 27
        }
      ]
    },
    {
      "cell_type": "markdown",
      "source": [
        "#Анимация"
      ],
      "metadata": {
        "id": "BEVUMD5EKt9p"
      }
    },
    {
      "cell_type": "code",
      "source": [
        "for frame_number in range(0, 99 ):\n",
        "    # Открываем изображение каждого кадра.\n",
        "    frame = Image.open()\n",
        "    # Добавляем кадр в список с кадрами.\n",
        "    frames.append(frame)"
      ],
      "metadata": {
        "id": "yFwNM3yQK0iy"
      },
      "execution_count": null,
      "outputs": []
    }
  ]
}